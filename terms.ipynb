{
  "nbformat": 4,
  "nbformat_minor": 0,
  "metadata": {
    "colab": {
      "provenance": [],
      "authorship_tag": "ABX9TyOY61gI8iQkZPGaVSiRe+8Z",
      "include_colab_link": true
    },
    "kernelspec": {
      "name": "python3",
      "display_name": "Python 3"
    },
    "language_info": {
      "name": "python"
    }
  },
  "cells": [
    {
      "cell_type": "markdown",
      "metadata": {
        "id": "view-in-github",
        "colab_type": "text"
      },
      "source": [
        "<a href=\"https://colab.research.google.com/github/oshos1/oshos/blob/main/terms.ipynb\" target=\"_parent\"><img src=\"https://colab.research.google.com/assets/colab-badge.svg\" alt=\"Open In Colab\"/></a>"
      ]
    },
    {
      "cell_type": "code",
      "execution_count": 1,
      "metadata": {
        "colab": {
          "base_uri": "https://localhost:8080/"
        },
        "id": "3pnnx4dkq0q9",
        "outputId": "371711db-19d3-4116-e1fe-1d2c19a046c7"
      },
      "outputs": [
        {
          "output_type": "stream",
          "name": "stderr",
          "text": [
            "[nltk_data] Downloading package punkt to /root/nltk_data...\n",
            "[nltk_data]   Unzipping tokenizers/punkt.zip.\n",
            "[nltk_data] Downloading package stopwords to /root/nltk_data...\n",
            "[nltk_data]   Unzipping corpora/stopwords.zip.\n"
          ]
        },
        {
          "output_type": "execute_result",
          "data": {
            "text/plain": [
              "45"
            ]
          },
          "metadata": {},
          "execution_count": 1
        }
      ],
      "source": [
        "from nltk.stem import PorterStemmer\n",
        "from nltk.corpus import stopwords\n",
        "from nltk.tokenize import word_tokenize\n",
        "import nltk\n",
        "\n",
        "# Downloading the necessary NLTK data\n",
        "nltk.download('punkt')\n",
        "nltk.download('stopwords')\n",
        "\n",
        "# Initial text\n",
        "text = (\"Catherine de' Medici (1519–1589) was queen consort of King Henry II of \"\n",
        "        \"France from 1547 to 1559. Throughout Henry II's reign, he excluded \"\n",
        "        \"Catherine from influence and instead showered favours on his mistress, \"\n",
        "        \"Diane de Poitiers. Henry's death in 1559 thrust Catherine into the political \"\n",
        "        \"arena as mother of the frail fifteen-year-old King Francis II. When he died in \"\n",
        "        \"1560, she became regent on behalf of her ten-year-old son King Charles IX \"\n",
        "        \"and was granted sweeping powers.\")\n",
        "\n",
        "# Tokenize the text\n",
        "tokens = word_tokenize(text)\n",
        "\n",
        "# Stemming and stopword removal\n",
        "stemmer = PorterStemmer()\n",
        "stop_words = set(stopwords.words('english'))\n",
        "processed_tokens = [stemmer.stem(word) for word in tokens if word.lower() not in stop_words and word.isalpha()]\n",
        "\n",
        "# Counting the terms\n",
        "total_terms = len(processed_tokens)\n",
        "total_terms\n",
        "\n"
      ]
    }
  ]
}